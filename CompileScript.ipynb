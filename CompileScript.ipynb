{
 "cells": [
  {
   "cell_type": "code",
   "execution_count": 2,
   "id": "670952fd",
   "metadata": {},
   "outputs": [
    {
     "name": "stderr",
     "output_type": "stream",
     "text": [
      "C:\\Users\\zanel\\anaconda3\\lib\\site-packages\\nbformat\\__init__.py:128: MissingIDFieldWarning: Code cell is missing an id field, this will become a hard error in future nbformat versions. You may want to use `normalize()` on your notebooks before validations (available since nbformat 5.1.4). Previous versions of nbformat are fixing this issue transparently, and will stop doing so in the future.\n",
      "  validate(nb)\n"
     ]
    }
   ],
   "source": [
    "import nbformat\n",
    "\n",
    "# Reading the notebooks\n",
    "model_nb = nbformat.read('group assignment-model.ipynb', 4)\n",
    "analysis_nb = nbformat.read('analysis_run.ipynb', 4)\n",
    "get_bank_loan_nb = nbformat.read('bank_loan_data\\get_bank_and_loan_data.ipynb', 4)\n",
    "banker_nb = nbformat.read('bank_loan_data\\get_branch_data_dev.ipynb', 4)\n",
    "loan_nb = nbformat.read('banker_data\\OPT_A2.ipynb', 4)\n",
    "\n",
    "# Creating a new notebook\n",
    "final_notebook = nbformat.v4.new_notebook(metadata=model_nb.metadata)\n",
    "\n",
    "# Concatenating the notebooks\n",
    "final_notebook.cells = model_nb.cells + analysis_nb.cells + get_bank_loan_nb.cells + banker_nb.cells + loan_nb.cells\n",
    "\n",
    "# Saving the new notebook \n",
    "nbformat.write(final_notebook, 'group6-assignment2.ipynb')"
   ]
  }
 ],
 "metadata": {
  "kernelspec": {
   "display_name": "Python 3 (ipykernel)",
   "language": "python",
   "name": "python3"
  },
  "language_info": {
   "codemirror_mode": {
    "name": "ipython",
    "version": 3
   },
   "file_extension": ".py",
   "mimetype": "text/x-python",
   "name": "python",
   "nbconvert_exporter": "python",
   "pygments_lexer": "ipython3",
   "version": "3.9.13"
  }
 },
 "nbformat": 4,
 "nbformat_minor": 5
}
