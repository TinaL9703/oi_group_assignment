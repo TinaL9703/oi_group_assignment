{
 "cells": [
  {
   "cell_type": "code",
   "execution_count": 36,
   "id": "fbf10cad",
   "metadata": {},
   "outputs": [
    {
     "name": "stdout",
     "output_type": "stream",
     "text": [
      "Requirement already satisfied: beautifulsoup4 in /opt/miniconda3/lib/python3.8/site-packages (4.11.1)\r\n",
      "Requirement already satisfied: soupsieve>1.2 in /opt/miniconda3/lib/python3.8/site-packages (from beautifulsoup4) (2.3.2.post1)\r\n"
     ]
    }
   ],
   "source": [
    "# !pip install selenium"
   ]
  },
  {
   "cell_type": "code",
   "execution_count": 49,
   "id": "bf0a1ff6",
   "metadata": {},
   "outputs": [],
   "source": [
    "from selenium import webdriver\n",
    "from selenium.webdriver.common.keys import Keys\n",
    "from selenium.webdriver.common.by import By\n",
    "from selenium.webdriver.support import expected_conditions as EC\n",
    "from selenium.webdriver.support.ui import WebDriverWait\n",
    "\n",
    "import re\n",
    "import pandas as pd"
   ]
  },
  {
   "cell_type": "code",
   "execution_count": 56,
   "id": "81eecf34",
   "metadata": {},
   "outputs": [
    {
     "name": "stderr",
     "output_type": "stream",
     "text": [
      "/var/folders/95/76mmy6pn2kvccmkyykdt6tvw0000gn/T/ipykernel_94319/3256854471.py:5: DeprecationWarning: executable_path has been deprecated, please pass in a Service object\n",
      "  driver = webdriver.Chrome('/opt/miniconda3/bin/chromedriver_mac_arm64/chromedriver')\n"
     ]
    }
   ],
   "source": [
    "links = []\n",
    "\n",
    "for i in range(1,12):\n",
    "    driver = webdriver.Chrome('/opt/miniconda3/bin/chromedriver_mac_arm64/chromedriver')\n",
    "    if i == 1:\n",
    "        driver.get('https://nab.banklocationmaps.com.au/en/branches/aus/victoria/')\n",
    "    else:\n",
    "        driver.get(f'https://nab.banklocationmaps.com.au/en/branches/aus/victoria?page={i}')\n",
    "    \n",
    "    directions = driver.find_elements(By.XPATH, \"//a[@class='btn-sm btn-outline-secondary btn-shadow btn-block']\")\n",
    "    for d in directions:\n",
    "        links.append(d.get_attribute(\"href\"))\n",
    "\n",
    "    driver.close()"
   ]
  },
  {
   "cell_type": "code",
   "execution_count": 65,
   "id": "6742728d",
   "metadata": {},
   "outputs": [],
   "source": [
    "all_branch = {}\n",
    "def get_longlat(locs, text):\n",
    "    branch = ''\n",
    "    for line in text.split('\\n'):\n",
    "        if '\"streetAddress\"' in line:\n",
    "            branch = line.split(': ')[1][1:-2]\n",
    "            locs[branch] = {'long':0, 'lat': 0}\n",
    "        if '\"longitude\"' in line:\n",
    "            print(line.split(': ')[1])\n",
    "            locs[branch]['long'] = float(line.split(': ')[1])\n",
    "        elif '\"latitude\"' in line:\n",
    "            locs[branch]['lat'] = float(line.split(': ')[1][:-1])\n",
    "    return locs"
   ]
  },
  {
   "cell_type": "code",
   "execution_count": null,
   "id": "a87aaf5e",
   "metadata": {},
   "outputs": [],
   "source": [
    "vic_branches = [l for l in links if l[-9:] == 'locations']\n",
    "for link in vic_branches:\n",
    "    driver = webdriver.Chrome('/opt/miniconda3/bin/chromedriver_mac_arm64/chromedriver')\n",
    "    driver.get(link)\n",
    "    geo = driver.page_source\n",
    "    all_branch = get_longlat(all_branch, geo)\n",
    "    driver.close()\n",
    "if len(all_branch) != len(vic_branches):\n",
    "    print(f\"\"\"Warning - Number of extracted NAB Victorian branches {len(all_branch)}, \n",
    "          expected {len(vic_branches)} branches!\"\"\")"
   ]
  },
  {
   "cell_type": "code",
   "execution_count": 94,
   "id": "94f7a20b",
   "metadata": {},
   "outputs": [
    {
     "data": {
      "text/plain": [
       "180"
      ]
     },
     "execution_count": 94,
     "metadata": {},
     "output_type": "execute_result"
    }
   ],
   "source": [
    "# Check for duplicated branch names\n",
    "len(set([re.search(\"nab-branch-(.*)?directions=1\", i).group(0) for i in vic_branches]))"
   ]
  },
  {
   "cell_type": "code",
   "execution_count": null,
   "id": "a465508f",
   "metadata": {},
   "outputs": [],
   "source": [
    "# sorted([ i for i in all_branch.keys()])"
   ]
  },
  {
   "cell_type": "code",
   "execution_count": 82,
   "id": "c98d56da",
   "metadata": {},
   "outputs": [],
   "source": [
    "# Get duplicates based on long lat locations\n",
    "dups = []\n",
    "for k1, v1 in all_branch.items():\n",
    "    for k2, v2 in all_branch.items():\n",
    "        if k2 != k1 and v2 == v1 and k1 not in dups:\n",
    "            dups.append(k2)"
   ]
  },
  {
   "cell_type": "code",
   "execution_count": 83,
   "id": "fa92e5d1",
   "metadata": {},
   "outputs": [
    {
     "data": {
      "text/plain": [
       "['100 Exhibition Street, Melbourne, VIC, 3000',\n",
       " '107 Main St, Mornington, VIC, 3931',\n",
       " '2 Eaton Street, Oakleigh, VIC, 3166',\n",
       " '224-228 Smith Street, Collingwood, VIC, 3066',\n",
       " '28 Hartnett Drive, Seaford, VIC, 3198',\n",
       " '293 Spring St, Reservoir, VIC, 3073',\n",
       " '406 Sydney Rd, Coburg, VIC, 3058',\n",
       " '566 Burke Road, Camberwell, VIC, 3124',\n",
       " '82-88 Franklin St, Traralgon, VIC, 3844',\n",
       " 'Melbourne NAB House, 500 Bourke Street, Melbourne NAB House, Melbourne, VIC, 3000',\n",
       " 'The Concourse, 700 Bourke St, The Concourse, Docklands, VIC, 3008']"
      ]
     },
     "execution_count": 83,
     "metadata": {},
     "output_type": "execute_result"
    }
   ],
   "source": [
    "sorted(dups)"
   ]
  },
  {
   "cell_type": "code",
   "execution_count": 87,
   "id": "0957e201",
   "metadata": {},
   "outputs": [],
   "source": [
    "# Remove duplicate branches\n",
    "final_branch_set = {k: all_branch[k] for k in all_branch.keys() if k not in dups}"
   ]
  },
  {
   "cell_type": "code",
   "execution_count": 89,
   "id": "81647fb0",
   "metadata": {},
   "outputs": [
    {
     "data": {
      "text/plain": [
       "169"
      ]
     },
     "execution_count": 89,
     "metadata": {},
     "output_type": "execute_result"
    }
   ],
   "source": [
    "len(final_branch_set)"
   ]
  },
  {
   "cell_type": "code",
   "execution_count": 101,
   "id": "77471c29",
   "metadata": {},
   "outputs": [
    {
     "data": {
      "text/html": [
       "<div>\n",
       "<style scoped>\n",
       "    .dataframe tbody tr th:only-of-type {\n",
       "        vertical-align: middle;\n",
       "    }\n",
       "\n",
       "    .dataframe tbody tr th {\n",
       "        vertical-align: top;\n",
       "    }\n",
       "\n",
       "    .dataframe thead th {\n",
       "        text-align: right;\n",
       "    }\n",
       "</style>\n",
       "<table border=\"1\" class=\"dataframe\">\n",
       "  <thead>\n",
       "    <tr style=\"text-align: right;\">\n",
       "      <th></th>\n",
       "      <th>branch</th>\n",
       "      <th>long</th>\n",
       "      <th>lat</th>\n",
       "    </tr>\n",
       "  </thead>\n",
       "  <tbody>\n",
       "    <tr>\n",
       "      <th>0</th>\n",
       "      <td>Westfield Fountain Gate, 352 Princes Highway, ...</td>\n",
       "      <td>145.304441</td>\n",
       "      <td>-38.018206</td>\n",
       "    </tr>\n",
       "    <tr>\n",
       "      <th>1</th>\n",
       "      <td>330 Collins St, Melbourne, VIC, 3000</td>\n",
       "      <td>144.963217</td>\n",
       "      <td>-37.816309</td>\n",
       "    </tr>\n",
       "    <tr>\n",
       "      <th>2</th>\n",
       "      <td>460 Collins St, Melbourne, VIC, 3000</td>\n",
       "      <td>144.958852</td>\n",
       "      <td>-37.817673</td>\n",
       "    </tr>\n",
       "    <tr>\n",
       "      <th>3</th>\n",
       "      <td>288 Lygon Street, Carlton, VIC, 3053</td>\n",
       "      <td>144.967263</td>\n",
       "      <td>-37.800216</td>\n",
       "    </tr>\n",
       "    <tr>\n",
       "      <th>4</th>\n",
       "      <td>22 Watton St, Werribee, VIC, 3030</td>\n",
       "      <td>144.661003</td>\n",
       "      <td>-37.901344</td>\n",
       "    </tr>\n",
       "    <tr>\n",
       "      <th>...</th>\n",
       "      <td>...</td>\n",
       "      <td>...</td>\n",
       "      <td>...</td>\n",
       "    </tr>\n",
       "    <tr>\n",
       "      <th>164</th>\n",
       "      <td>40 Federal St, Rainbow, VIC, 3424</td>\n",
       "      <td>141.994995</td>\n",
       "      <td>-35.898205</td>\n",
       "    </tr>\n",
       "    <tr>\n",
       "      <th>165</th>\n",
       "      <td>16 Gilbert Street, Torquay, VIC, 3228</td>\n",
       "      <td>144.324342</td>\n",
       "      <td>-38.332092</td>\n",
       "    </tr>\n",
       "    <tr>\n",
       "      <th>166</th>\n",
       "      <td>299-301 Esplanade, Lakes Entrance, VIC, 3909</td>\n",
       "      <td>147.983521</td>\n",
       "      <td>-37.881281</td>\n",
       "    </tr>\n",
       "    <tr>\n",
       "      <th>167</th>\n",
       "      <td>Midtown Plaza, 186 Swanston Street, Midtown Pl...</td>\n",
       "      <td>144.965472</td>\n",
       "      <td>-37.813131</td>\n",
       "    </tr>\n",
       "    <tr>\n",
       "      <th>168</th>\n",
       "      <td>104 Main St, Rutherglen, VIC, 3685</td>\n",
       "      <td>146.460001</td>\n",
       "      <td>-36.054299</td>\n",
       "    </tr>\n",
       "  </tbody>\n",
       "</table>\n",
       "<p>169 rows × 3 columns</p>\n",
       "</div>"
      ],
      "text/plain": [
       "                                                branch        long        lat\n",
       "0    Westfield Fountain Gate, 352 Princes Highway, ...  145.304441 -38.018206\n",
       "1                 330 Collins St, Melbourne, VIC, 3000  144.963217 -37.816309\n",
       "2                 460 Collins St, Melbourne, VIC, 3000  144.958852 -37.817673\n",
       "3                 288 Lygon Street, Carlton, VIC, 3053  144.967263 -37.800216\n",
       "4                    22 Watton St, Werribee, VIC, 3030  144.661003 -37.901344\n",
       "..                                                 ...         ...        ...\n",
       "164                  40 Federal St, Rainbow, VIC, 3424  141.994995 -35.898205\n",
       "165              16 Gilbert Street, Torquay, VIC, 3228  144.324342 -38.332092\n",
       "166       299-301 Esplanade, Lakes Entrance, VIC, 3909  147.983521 -37.881281\n",
       "167  Midtown Plaza, 186 Swanston Street, Midtown Pl...  144.965472 -37.813131\n",
       "168                 104 Main St, Rutherglen, VIC, 3685  146.460001 -36.054299\n",
       "\n",
       "[169 rows x 3 columns]"
      ]
     },
     "execution_count": 101,
     "metadata": {},
     "output_type": "execute_result"
    }
   ],
   "source": [
    "pd.DataFrame.from_dict(final_branch_set, orient='index')\\\n",
    "  .reset_index(names='branch')\\\n",
    "  .to_csv('branch_locations.csv', index=False)"
   ]
  },
  {
   "cell_type": "code",
   "execution_count": null,
   "id": "098273be",
   "metadata": {},
   "outputs": [],
   "source": []
  }
 ],
 "metadata": {
  "kernelspec": {
   "display_name": "Python 3 (ipykernel)",
   "language": "python",
   "name": "python3"
  },
  "language_info": {
   "codemirror_mode": {
    "name": "ipython",
    "version": 3
   },
   "file_extension": ".py",
   "mimetype": "text/x-python",
   "name": "python",
   "nbconvert_exporter": "python",
   "pygments_lexer": "ipython3",
   "version": "3.8.2"
  }
 },
 "nbformat": 4,
 "nbformat_minor": 5
}
