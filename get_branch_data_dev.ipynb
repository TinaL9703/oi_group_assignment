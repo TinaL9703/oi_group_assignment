{
 "cells": [
  {
   "cell_type": "code",
   "execution_count": 36,
   "id": "fbf10cad",
   "metadata": {},
   "outputs": [
    {
     "name": "stdout",
     "output_type": "stream",
     "text": [
      "Requirement already satisfied: beautifulsoup4 in /opt/miniconda3/lib/python3.8/site-packages (4.11.1)\r\n",
      "Requirement already satisfied: soupsieve>1.2 in /opt/miniconda3/lib/python3.8/site-packages (from beautifulsoup4) (2.3.2.post1)\r\n"
     ]
    }
   ],
   "source": [
    "# !pip install selenium"
   ]
  },
  {
   "cell_type": "code",
   "execution_count": 21,
   "id": "bf0a1ff6",
   "metadata": {},
   "outputs": [],
   "source": [
    "from selenium import webdriver\n",
    "from selenium.webdriver.common.keys import Keys\n",
    "from selenium.webdriver.common.by import By\n",
    "from selenium.webdriver.support import expected_conditions as EC\n",
    "from selenium.webdriver.support.ui import WebDriverWait\n",
    "\n",
    "import re\n",
    "import pandas as pd"
   ]
  },
  {
   "cell_type": "code",
   "execution_count": 2,
   "id": "81eecf34",
   "metadata": {},
   "outputs": [
    {
     "name": "stderr",
     "output_type": "stream",
     "text": [
      "/var/folders/95/76mmy6pn2kvccmkyykdt6tvw0000gn/T/ipykernel_29321/1366198960.py:4: DeprecationWarning: executable_path has been deprecated, please pass in a Service object\n",
      "  driver = webdriver.Chrome('/opt/miniconda3/bin/chromedriver_mac_arm64/chromedriver')\n"
     ]
    }
   ],
   "source": [
    "links = []\n",
    "\n",
    "for i in range(1,12):\n",
    "    driver = webdriver.Chrome('/opt/miniconda3/bin/chromedriver_mac_arm64/chromedriver')\n",
    "    if i == 1:\n",
    "        driver.get('https://nab.banklocationmaps.com.au/en/branches/aus/victoria/')\n",
    "    else:\n",
    "        driver.get(f'https://nab.banklocationmaps.com.au/en/branches/aus/victoria?page={i}')\n",
    "    \n",
    "    directions = driver.find_elements(By.XPATH, \"//a[@class='btn-sm btn-outline-secondary btn-shadow btn-block']\")\n",
    "    for d in directions:\n",
    "        links.append(d.get_attribute(\"href\"))\n",
    "\n",
    "    driver.close()"
   ]
  },
  {
   "cell_type": "code",
   "execution_count": 15,
   "id": "c5b48369",
   "metadata": {},
   "outputs": [
    {
     "data": {
      "text/plain": [
       "{'Westfield Fountain Gate, 352 Princes Highway, Westfield Fountain Gate, Narre Warren, VIC, 3805': {'long': 145.304441,\n",
       "  'lat': -38.018206,\n",
       "  'OH': ['Monday-Thursday:9.30am-4.00pm', 'Friday:9.30am-5.00pm']}}"
      ]
     },
     "execution_count": 15,
     "metadata": {},
     "output_type": "execute_result"
    }
   ],
   "source": [
    "all_branch"
   ]
  },
  {
   "cell_type": "code",
   "execution_count": 10,
   "id": "5d1caa86",
   "metadata": {},
   "outputs": [
    {
     "data": {
      "text/plain": [
       "'b'"
      ]
     },
     "execution_count": 10,
     "metadata": {},
     "output_type": "execute_result"
    }
   ],
   "source": [
    "'a'.replace('a', 'b')"
   ]
  },
  {
   "cell_type": "code",
   "execution_count": 17,
   "id": "6742728d",
   "metadata": {},
   "outputs": [],
   "source": [
    "all_branch = {}\n",
    "def get_longlat(locs, text):\n",
    "    branch = ''\n",
    "    for line in text.split('\\n'):\n",
    "        if '\"streetAddress\"' in line:\n",
    "            branch = line.split(': ')[1][1:-2]\n",
    "            locs[branch] = {'long':0, 'lat': 0}\n",
    "        if '\"longitude\"' in line:\n",
    "            locs[branch]['long'] = float(line.split(': ')[1])\n",
    "        elif '\"latitude\"' in line:\n",
    "            locs[branch]['lat'] = float(line.split(': ')[1][:-1])\n",
    "        if 'Monday' in line:\n",
    "            locs[branch]['OH'] = [s.replace('</td><td>', ':') for s in line[15:-10].split('</td></tr><tr><td>')]\n",
    "    return locs"
   ]
  },
  {
   "cell_type": "code",
   "execution_count": 22,
   "id": "a87aaf5e",
   "metadata": {},
   "outputs": [
    {
     "name": "stdout",
     "output_type": "stream",
     "text": [
      "https://nab.banklocationmaps.com.au/en/branch/270562-nab-branch-cranbourne-park-shopping-centre-high-st-cranbourne-park-shopping-centre?directions=1#locations\n"
     ]
    },
    {
     "name": "stderr",
     "output_type": "stream",
     "text": [
      "/var/folders/95/76mmy6pn2kvccmkyykdt6tvw0000gn/T/ipykernel_29321/331689300.py:4: DeprecationWarning: executable_path has been deprecated, please pass in a Service object\n",
      "  driver = webdriver.Chrome('/opt/miniconda3/bin/chromedriver_mac_arm64/chromedriver')\n"
     ]
    },
    {
     "name": "stdout",
     "output_type": "stream",
     "text": [
      "https://nab.banklocationmaps.com.au/en/branch/89370-nab-branch-100-exhibition-st?directions=1#locations\n",
      "https://nab.banklocationmaps.com.au/en/branch/89517-nab-branch-183-manifold-st?directions=1#locations\n",
      "https://nab.banklocationmaps.com.au/en/branch/97449-nab-branch-southland-shopping-centre-westfield-southland-1239-nepean-highway?directions=1#locations\n",
      "https://nab.banklocationmaps.com.au/en/branch/89423-nab-branch-120-upper-heidelberg-road?directions=1#locations\n",
      "https://nab.banklocationmaps.com.au/en/branch/89612-nab-branch-102-106-main-st?directions=1#locations\n",
      "https://nab.banklocationmaps.com.au/en/branch/89648-nab-branch-21-brook-st?directions=1#locations\n",
      "https://nab.banklocationmaps.com.au/en/branch/90210-nab-branch-79-81-malop-st?directions=1#locations\n",
      "https://nab.banklocationmaps.com.au/en/branch/90244-nab-branch-3-ordish-road?directions=1#locations\n",
      "https://nab.banklocationmaps.com.au/en/branch/98245-nab-branch-waurn-ponds-shopping-centre-173-199-pioneer-road-waurn-ponds-shopping-centre?directions=1#locations\n",
      "https://nab.banklocationmaps.com.au/en/branch/275928-nab-branch-75-77-firebrace-st?directions=1#locations\n",
      "https://nab.banklocationmaps.com.au/en/branch/89403-nab-branch-348-350-clayton-rd?directions=1#locations\n",
      "https://nab.banklocationmaps.com.au/en/branch/89425-nab-branch-16-kingsway?directions=1#locations\n",
      "https://nab.banklocationmaps.com.au/en/branch/90299-nab-branch-114-barkly-st?directions=1#locations\n",
      "https://nab.banklocationmaps.com.au/en/branch/90038-nab-branch-145-149-main-st?directions=1#locations\n",
      "https://nab.banklocationmaps.com.au/en/branch/90075-nab-branch-445-toorak-rd?directions=1#locations\n",
      "https://nab.banklocationmaps.com.au/en/branch/90242-nab-branch-196-208-russell-st?directions=1#locations\n",
      "https://nab.banklocationmaps.com.au/en/branch/97364-nab-branch-epping-plaza-shopping-centre-571-583-high-street-corner-cooper-street-epping-plaza-shopping-centre?directions=1#locations\n",
      "https://nab.banklocationmaps.com.au/en/branch/89434-nab-branch-84-glenferrie-road?directions=1#locations\n",
      "https://nab.banklocationmaps.com.au/en/branch/89450-nab-branch-266-stephensons-rd?directions=1#locations\n",
      "https://nab.banklocationmaps.com.au/en/branch/89519-nab-branch-145-barker-st?directions=1#locations\n",
      "https://nab.banklocationmaps.com.au/en/branch/97391-nab-branch-watergardens-shopping-centre-399-melton-hwy-watergardens-shopping-centre?directions=1#locations\n",
      "https://nab.banklocationmaps.com.au/en/branch/97393-nab-branch-qv-building-228-234-lonsdale-st-qv-building?directions=1#locations\n",
      "https://nab.banklocationmaps.com.au/en/branch/270571-nab-branch-tarneit-central-shopping-centre-540-derrimut-road-tarneit-central-shopping-centre?directions=1#locations\n",
      "https://nab.banklocationmaps.com.au/en/branch/586892-nab-branch-140-koroit-st?directions=1#locations\n",
      "https://nab.banklocationmaps.com.au/en/branch/89469-nab-branch-600-chapel-st?directions=1#locations\n",
      "https://nab.banklocationmaps.com.au/en/branch/338181-nab-branch-68-puckle-st?directions=1#locations\n",
      "https://nab.banklocationmaps.com.au/en/branch/89681-nab-branch-174-graham-st?directions=1#locations\n",
      "https://nab.banklocationmaps.com.au/en/branch/90027-nab-branch-19-victoria-st?directions=1#locations\n",
      "https://nab.banklocationmaps.com.au/en/branch/90287-nab-branch-75-nunn-st?directions=1#locations\n",
      "https://nab.banklocationmaps.com.au/en/branch/275918-nab-branch-waverley-gardens-shopping-centre-cnr-police-jacksons-roads-waverley-gardens-shopping-centre?directions=1#locations\n",
      "https://nab.banklocationmaps.com.au/en/branch/89925-nab-branch-566-burke-road?directions=1#locations\n",
      "https://nab.banklocationmaps.com.au/en/branch/90024-nab-branch-165-167-hare-st?directions=1#locations\n",
      "https://nab.banklocationmaps.com.au/en/branch/90079-nab-branch-143-hogan-st?directions=1#locations\n",
      "https://nab.banklocationmaps.com.au/en/branch/97441-nab-branch-bayside-shopping-centre-28-beach-street-bayside-shopping-centre?directions=1#locations\n",
      "https://nab.banklocationmaps.com.au/en/branch/89573-nab-branch-1223a-howitt-st?directions=1#locations\n",
      "https://nab.banklocationmaps.com.au/en/branch/89682-nab-branch-55-belmore-st?directions=1#locations\n",
      "https://nab.banklocationmaps.com.au/en/branch/90297-nab-branch-1223a-howitt-st?directions=1#locations\n",
      "https://nab.banklocationmaps.com.au/en/branch/97446-nab-branch-westfield-plenty-valley-415-mcdonalds-road-westfield-plenty-valley?directions=1#locations\n",
      "https://nab.banklocationmaps.com.au/en/branch/98244-nab-branch-craigieburn-central-340-craigieburn-road-craigieburn-central?directions=1#locations\n",
      "https://nab.banklocationmaps.com.au/en/branch/89558-nab-branch-87-89-separation-st?directions=1#locations\n",
      "https://nab.banklocationmaps.com.au/en/branch/89571-nab-branch-111-mollison-st?directions=1#locations\n",
      "https://nab.banklocationmaps.com.au/en/branch/89602-nab-branch-7-pickering-st?directions=1#locations\n",
      "https://nab.banklocationmaps.com.au/en/branch/90311-nab-branch-383-centre-rd?directions=1#locations\n",
      "https://nab.banklocationmaps.com.au/en/branch/97379-nab-branch-cs-square-shopping-centre-29-35-lake-street-cs-square-shopping-centre?directions=1#locations\n",
      "https://nab.banklocationmaps.com.au/en/branch/97394-nab-branch-strath-village-shopping-centre-134-condon-st-strath-village-shopping-centre?directions=1#locations\n",
      "https://nab.banklocationmaps.com.au/en/branch/90261-nab-branch-333-springvale-rd?directions=1#locations\n",
      "https://nab.banklocationmaps.com.au/en/branch/97450-nab-branch-eastland-shopping-centre-171-175-maroondah-highway-eastland-shopping-centre?directions=1#locations\n",
      "https://nab.banklocationmaps.com.au/en/branch/761920-nab-branch-shop-128-casey-central-sc-400-narre-warren-cranbourne-rd-casey-central?directions=1#locations\n",
      "https://nab.banklocationmaps.com.au/en/branch/97132-nab-branch-chadstone-shopping-centre-1341-dandenong-road-chadstone-shopping-centre?directions=1#locations\n",
      "https://nab.banklocationmaps.com.au/en/branch/89522-nab-branch-79-king-george-st?directions=1#locations\n",
      "https://nab.banklocationmaps.com.au/en/branch/97367-nab-branch-point-cook-town-centre-1-main-street-point-cook-town-centre?directions=1#locations\n",
      "https://nab.banklocationmaps.com.au/en/branch/89964-nab-branch-55-deakin-ave?directions=1#locations\n",
      "https://nab.banklocationmaps.com.au/en/branch/270572-nab-branch-werribee-plaza-shopping-centre-derrimut-and-heath-roads-werribee-plaza-shopping-centre?directions=1#locations\n",
      "https://nab.banklocationmaps.com.au/en/branch/278115-nab-branch-sunshine-marketplace-80-harvester-road-sunshine-marketplace?directions=1#locations\n",
      "https://nab.banklocationmaps.com.au/en/branch/336903-nab-branch-dandenong-plaza-1-mccrae-street-dandenong-plaza?directions=1#locations\n",
      "https://nab.banklocationmaps.com.au/en/branch/89574-nab-branch-92-mclennan-st?directions=1#locations\n",
      "https://nab.banklocationmaps.com.au/en/branch/89600-nab-branch-71-79-nicholson-st?directions=1#locations\n",
      "https://nab.banklocationmaps.com.au/en/branch/90278-nab-branch-50-thompson-ave?directions=1#locations\n",
      "https://nab.banklocationmaps.com.au/en/branch/209135-nab-branch-woodgrove-shopping-centre-533-555-high-street-woodgrove-shopping-centre?directions=1#locations\n",
      "https://nab.banklocationmaps.com.au/en/branch/96335-nab-branch-57-59-mitchell-st?directions=1#locations\n",
      "https://nab.banklocationmaps.com.au/en/branch/275964-nab-branch-406-sydney-road?directions=1#locations\n",
      "https://nab.banklocationmaps.com.au/en/branch/90185-nab-branch-82-88-franklin-street?directions=1#locations\n",
      "https://nab.banklocationmaps.com.au/en/branch/90312-nab-branch-199-princes-drive?directions=1#locations\n",
      "https://nab.banklocationmaps.com.au/en/branch/97451-nab-branch-broadmeadows-shopping-centre-1099-pascoe-vale-road-broadmeadows-shopping-centre?directions=1#locations\n",
      "https://nab.banklocationmaps.com.au/en/branch/338187-nab-branch-329-sturt-street?directions=1#locations\n",
      "https://nab.banklocationmaps.com.au/en/branch/89435-nab-branch-57-florence-st?directions=1#locations\n",
      "https://nab.banklocationmaps.com.au/en/branch/89456-nab-branch-2-eaton-st?directions=1#locations\n",
      "https://nab.banklocationmaps.com.au/en/branch/89461-nab-branch-19-21-douglas-parade?directions=1#locations\n",
      "https://nab.banklocationmaps.com.au/en/branch/89534-nab-branch-64-elizabeth-st?directions=1#locations\n"
     ]
    },
    {
     "name": "stdout",
     "output_type": "stream",
     "text": [
      "https://nab.banklocationmaps.com.au/en/branch/90042-nab-branch-50-ranelagh-dr?directions=1#locations\n",
      "https://nab.banklocationmaps.com.au/en/branch/90294-nab-branch-76-high-st?directions=1#locations\n",
      "https://nab.banklocationmaps.com.au/en/branch/95783-nab-branch-67-high-street?directions=1#locations\n",
      "https://nab.banklocationmaps.com.au/en/branch/97351-nab-branch-drysdale-village-shopping-centre-16-wyndham-st-drysdale-village-shopping-centre?directions=1#locations\n",
      "https://nab.banklocationmaps.com.au/en/branch/89429-nab-branch-185-high-st?directions=1#locations\n",
      "https://nab.banklocationmaps.com.au/en/branch/89654-nab-branch-158-scott-st?directions=1#locations\n",
      "https://nab.banklocationmaps.com.au/en/branch/90037-nab-branch-40-station-st?directions=1#locations\n",
      "https://nab.banklocationmaps.com.au/en/branch/90179-nab-branch-100-exhibition-street?directions=1#locations\n",
      "https://nab.banklocationmaps.com.au/en/branch/90180-nab-branch-the-concourse-700-bourke-st-the-concourse?directions=1#locations\n",
      "https://nab.banklocationmaps.com.au/en/branch/90238-nab-branch-381-wyndham-st?directions=1#locations\n",
      "https://nab.banklocationmaps.com.au/en/branch/98242-nab-branch-the-concourse-700-bourke-st-the-concourse?directions=1#locations\n",
      "https://nab.banklocationmaps.com.au/en/branch/338183-nab-branch-333-springvale-rd?directions=1#locations\n",
      "https://nab.banklocationmaps.com.au/en/branch/338208-nab-branch-700-bourke-street?directions=1#locations\n",
      "https://nab.banklocationmaps.com.au/en/branch/338209-nab-branch-chifley-business-park-1-joseph-avenue-chifley-business-park?directions=1#locations\n",
      "https://nab.banklocationmaps.com.au/en/branch/89567-nab-branch-89-johnson-st?directions=1#locations\n",
      "https://nab.banklocationmaps.com.au/en/branch/89643-nab-branch-93-high-st?directions=1#locations\n",
      "https://nab.banklocationmaps.com.au/en/branch/89965-nab-branch-149-high-st?directions=1#locations\n",
      "https://nab.banklocationmaps.com.au/en/branch/90149-nab-branch-245-raymond-st?directions=1#locations\n",
      "https://nab.banklocationmaps.com.au/en/branch/275917-nab-branch-parkmore-shopping-centre-317-cheltenham-road-parkmore-shopping-centre?directions=1#locations\n",
      "https://nab.banklocationmaps.com.au/en/branch/275922-nab-branch-westfield-airport-west-25-35-louis-st-westfield-airport-west?directions=1#locations\n",
      "https://nab.banklocationmaps.com.au/en/branch/338177-nab-branch-224-228-smith-street?directions=1#locations\n",
      "https://nab.banklocationmaps.com.au/en/branch/89500-nab-branch-34-ireland-st?directions=1#locations\n",
      "https://nab.banklocationmaps.com.au/en/branch/89521-nab-branch-81-punt-rd?directions=1#locations\n",
      "https://nab.banklocationmaps.com.au/en/branch/89562-nab-branch-54-high-st?directions=1#locations\n",
      "https://nab.banklocationmaps.com.au/en/branch/89598-nab-branch-41-melville-st?directions=1#locations\n",
      "https://nab.banklocationmaps.com.au/en/branch/89992-nab-branch-726-mountain-hwy?directions=1#locations\n",
      "https://nab.banklocationmaps.com.au/en/branch/90108-nab-branch-51-victoria-st?directions=1#locations\n",
      "https://nab.banklocationmaps.com.au/en/branch/90276-nab-branch-64-percy-st?directions=1#locations\n",
      "https://nab.banklocationmaps.com.au/en/branch/90286-nab-branch-322-high-st?directions=1#locations\n",
      "https://nab.banklocationmaps.com.au/en/branch/90295-nab-branch-23-mccartin-st?directions=1#locations\n",
      "https://nab.banklocationmaps.com.au/en/branch/97186-nab-branch-point-cook-town-centre-1-main-street-point-cook-town-centre?directions=1#locations\n",
      "https://nab.banklocationmaps.com.au/en/branch/275926-nab-branch-drysdale-village-shopping-centre-16-wyndham-st-drysdale-village-shopping-centre?directions=1#locations\n",
      "https://nab.banklocationmaps.com.au/en/branch/89392-nab-branch-383-centre-rd?directions=1#locations\n",
      "https://nab.banklocationmaps.com.au/en/branch/89395-nab-branch-103-105-koornang-road?directions=1#locations\n",
      "https://nab.banklocationmaps.com.au/en/branch/89560-nab-branch-29-brantome-st?directions=1#locations\n",
      "https://nab.banklocationmaps.com.au/en/branch/89683-nab-branch-211-commercial-rd?directions=1#locations\n",
      "https://nab.banklocationmaps.com.au/en/branch/89998-nab-branch-293-spring-st?directions=1#locations\n",
      "https://nab.banklocationmaps.com.au/en/branch/97392-nab-branch-brandon-park-shopping-centre-608-ferntree-gully-road-brandon-park-shopping-centre?directions=1#locations\n",
      "https://nab.banklocationmaps.com.au/en/branch/338176-nab-branch-melbourne-nab-house-500-bourke-street-melbourne-nab-house?directions=1#locations\n",
      "https://nab.banklocationmaps.com.au/en/branch/338213-nab-branch-cs-square-shopping-centre-29-35-lake-street-cs-square-shopping-centre?directions=1#locations\n",
      "https://nab.banklocationmaps.com.au/en/branch/89371-nab-branch-melbourne-nab-house-500-bourke-street-melbourne-nab-house?directions=1#locations\n",
      "https://nab.banklocationmaps.com.au/en/branch/89525-nab-branch-104-high-st?directions=1#locations\n",
      "https://nab.banklocationmaps.com.au/en/branch/89556-nab-branch-18-sydney-street?directions=1#locations\n",
      "https://nab.banklocationmaps.com.au/en/branch/89559-nab-branch-191-pakington-st?directions=1#locations\n",
      "https://nab.banklocationmaps.com.au/en/branch/89604-nab-branch-107-main-st?directions=1#locations\n",
      "https://nab.banklocationmaps.com.au/en/branch/89685-nab-branch-33-roy-st?directions=1#locations\n",
      "https://nab.banklocationmaps.com.au/en/branch/90023-nab-branch-44-victoria-st?directions=1#locations\n",
      "https://nab.banklocationmaps.com.au/en/branch/90269-nab-branch-81-the-terrace?directions=1#locations\n",
      "https://nab.banklocationmaps.com.au/en/branch/90303-nab-branch-102-106-main-st?directions=1#locations\n",
      "https://nab.banklocationmaps.com.au/en/branch/97350-nab-branch-dromana-hub-shopping-centre-217-nepean-highway-dromana-hub-shopping-centre?directions=1#locations\n",
      "https://nab.banklocationmaps.com.au/en/branch/97417-nab-branch-waurn-ponds-shopping-centre-173-199-pioneer-road-waurn-ponds-shopping-centre?directions=1#locations\n",
      "https://nab.banklocationmaps.com.au/en/branch/272767-nab-branch-191-pakington-st?directions=1#locations\n",
      "https://nab.banklocationmaps.com.au/en/branch/272768-nab-branch-49-main-st?directions=1#locations\n",
      "https://nab.banklocationmaps.com.au/en/branch/275920-nab-branch-southland-shopping-centre-westfield-southland-1239-nepean-highway?directions=1#locations\n",
      "https://nab.banklocationmaps.com.au/en/branch/275978-nab-branch-406-sydney-rd?directions=1#locations\n",
      "https://nab.banklocationmaps.com.au/en/branch/338188-nab-branch-176-high-st?directions=1#locations\n",
      "https://nab.banklocationmaps.com.au/en/branch/89453-nab-branch-421-423-keilor-road?directions=1#locations\n",
      "https://nab.banklocationmaps.com.au/en/branch/89467-nab-branch-260-clarendon-st?directions=1#locations\n",
      "https://nab.banklocationmaps.com.au/en/branch/89481-nab-branch-glendinning-st?directions=1#locations\n",
      "https://nab.banklocationmaps.com.au/en/branch/89488-nab-branch-67-69-grant-st?directions=1#locations\n",
      "https://nab.banklocationmaps.com.au/en/branch/89520-nab-branch-34-curdie-st?directions=1#locations\n",
      "https://nab.banklocationmaps.com.au/en/branch/89530-nab-branch-69-commercial-st?directions=1#locations\n",
      "https://nab.banklocationmaps.com.au/en/branch/89536-nab-branch-342-344-belgrave-gembrook-rd?directions=1#locations\n",
      "https://nab.banklocationmaps.com.au/en/branch/89561-nab-branch-131-gray-st?directions=1#locations\n",
      "https://nab.banklocationmaps.com.au/en/branch/89566-nab-branch-3-a-beckett-st?directions=1#locations\n",
      "https://nab.banklocationmaps.com.au/en/branch/89570-nab-branch-182-allan-st?directions=1#locations\n",
      "https://nab.banklocationmaps.com.au/en/branch/89639-nab-branch-29-napier-st?directions=1#locations\n",
      "https://nab.banklocationmaps.com.au/en/branch/89651-nab-branch-82-88-franklin-st?directions=1#locations\n",
      "https://nab.banklocationmaps.com.au/en/branch/89677-nab-branch-140-koroit-st?directions=1#locations\n",
      "https://nab.banklocationmaps.com.au/en/branch/89687-nab-branch-40-federal-st?directions=1#locations\n",
      "https://nab.banklocationmaps.com.au/en/branch/89991-nab-branch-21-brook-st?directions=1#locations\n",
      "https://nab.banklocationmaps.com.au/en/branch/90026-nab-branch-3-a-beckett-st?directions=1#locations\n",
      "https://nab.banklocationmaps.com.au/en/branch/90240-nab-branch-700-bourke-street?directions=1#locations\n",
      "https://nab.banklocationmaps.com.au/en/branch/90283-nab-branch-28-hartnett-drive?directions=1#locations\n"
     ]
    },
    {
     "name": "stdout",
     "output_type": "stream",
     "text": [
      "https://nab.banklocationmaps.com.au/en/branch/90300-nab-branch-16-gilbert-street?directions=1#locations\n",
      "https://nab.banklocationmaps.com.au/en/branch/90305-nab-branch-299-301-esplanade?directions=1#locations\n",
      "https://nab.banklocationmaps.com.au/en/branch/97169-nab-branch-midtown-plaza-186-swanston-street-midtown-plaza?directions=1#locations\n",
      "https://nab.banklocationmaps.com.au/en/branch/97390-nab-branch-sunshine-marketplace-80-harvester-road-sunshine-marketplace?directions=1#locations\n",
      "https://nab.banklocationmaps.com.au/en/branch/272761-nab-branch-2-eaton-street?directions=1#locations\n",
      "https://nab.banklocationmaps.com.au/en/branch/278117-nab-branch-2-eaton-st?directions=1#locations\n",
      "https://nab.banklocationmaps.com.au/en/branch/338185-nab-branch-445-toorak-rd?directions=1#locations\n",
      "https://nab.banklocationmaps.com.au/en/branch/338191-nab-branch-800-bourke-street?directions=1#locations\n",
      "https://nab.banklocationmaps.com.au/en/branch/338194-nab-branch-104-main-st?directions=1#locations\n",
      "https://nab.banklocationmaps.com.au/en/branch/89599-nab-branch-55-deakin-ave?directions=1#locations\n",
      "Warning - Number of extracted NAB Victorian branches 180, \n",
      "          expected 214 branches!\n"
     ]
    }
   ],
   "source": [
    "vic_branches = [l for l in links if l[-9:] == 'locations']\n",
    "for link in vic_branches[60:]:\n",
    "    print(link)\n",
    "    driver = webdriver.Chrome('/opt/miniconda3/bin/chromedriver_mac_arm64/chromedriver')\n",
    "    driver.get(link)\n",
    "    geo = driver.page_source\n",
    "    all_branch = get_longlat(all_branch, geo)\n",
    "    driver.close()\n",
    "if len(all_branch) != len(vic_branches):\n",
    "    print(f\"\"\"Warning - Number of extracted NAB Victorian branches {len(all_branch)}, \n",
    "          expected {len(vic_branches)} branches!\"\"\")"
   ]
  },
  {
   "cell_type": "code",
   "execution_count": 23,
   "id": "94f7a20b",
   "metadata": {},
   "outputs": [
    {
     "data": {
      "text/plain": [
       "180"
      ]
     },
     "execution_count": 23,
     "metadata": {},
     "output_type": "execute_result"
    }
   ],
   "source": [
    "# Check for duplicated branch names\n",
    "len(set([re.search(\"nab-branch-(.*)?directions=1\", i).group(0) for i in vic_branches]))"
   ]
  },
  {
   "cell_type": "code",
   "execution_count": null,
   "id": "a465508f",
   "metadata": {},
   "outputs": [],
   "source": [
    "# sorted([ i for i in all_branch.keys()])"
   ]
  },
  {
   "cell_type": "code",
   "execution_count": 24,
   "id": "c98d56da",
   "metadata": {},
   "outputs": [],
   "source": [
    "# Get duplicates based on long lat locations\n",
    "dups = []\n",
    "for k1, v1 in all_branch.items():\n",
    "    for k2, v2 in all_branch.items():\n",
    "        if k2 != k1 and v2 == v1 and k1 not in dups:\n",
    "            dups.append(k2)"
   ]
  },
  {
   "cell_type": "code",
   "execution_count": 25,
   "id": "fa92e5d1",
   "metadata": {},
   "outputs": [
    {
     "data": {
      "text/plain": [
       "['100 Exhibition Street, Melbourne, VIC, 3000',\n",
       " '107 Main St, Mornington, VIC, 3931',\n",
       " '224-228 Smith Street, Collingwood, VIC, 3066',\n",
       " '293 Spring St, Reservoir, VIC, 3073',\n",
       " '406 Sydney Rd, Coburg, VIC, 3058',\n",
       " '566 Burke Road, Camberwell, VIC, 3124',\n",
       " '82-88 Franklin St, Traralgon, VIC, 3844',\n",
       " 'Melbourne NAB House, 500 Bourke Street, Melbourne NAB House, Melbourne, VIC, 3000',\n",
       " 'The Concourse, 700 Bourke St, The Concourse, Docklands, VIC, 3008']"
      ]
     },
     "execution_count": 25,
     "metadata": {},
     "output_type": "execute_result"
    }
   ],
   "source": [
    "sorted(dups)"
   ]
  },
  {
   "cell_type": "code",
   "execution_count": 26,
   "id": "0957e201",
   "metadata": {},
   "outputs": [],
   "source": [
    "# Remove duplicate branches\n",
    "final_branch_set = {k: all_branch[k] for k in all_branch.keys() if k not in dups}"
   ]
  },
  {
   "cell_type": "code",
   "execution_count": 27,
   "id": "81647fb0",
   "metadata": {},
   "outputs": [
    {
     "data": {
      "text/plain": [
       "171"
      ]
     },
     "execution_count": 27,
     "metadata": {},
     "output_type": "execute_result"
    }
   ],
   "source": [
    "len(final_branch_set)"
   ]
  },
  {
   "cell_type": "code",
   "execution_count": 28,
   "id": "77471c29",
   "metadata": {},
   "outputs": [],
   "source": [
    "pd.DataFrame.from_dict(final_branch_set, orient='index')\\\n",
    "  .reset_index(names='branch')\\\n",
    "  .to_csv('branch_locations.csv', index=False)"
   ]
  },
  {
   "cell_type": "code",
   "execution_count": null,
   "id": "098273be",
   "metadata": {},
   "outputs": [],
   "source": []
  }
 ],
 "metadata": {
  "kernelspec": {
   "display_name": "Python 3 (ipykernel)",
   "language": "python",
   "name": "python3"
  },
  "language_info": {
   "codemirror_mode": {
    "name": "ipython",
    "version": 3
   },
   "file_extension": ".py",
   "mimetype": "text/x-python",
   "name": "python",
   "nbconvert_exporter": "python",
   "pygments_lexer": "ipython3",
   "version": "3.8.2"
  }
 },
 "nbformat": 4,
 "nbformat_minor": 5
}
